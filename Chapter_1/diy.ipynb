{
 "cells": [
  {
   "cell_type": "code",
   "execution_count": null,
   "metadata": {},
   "outputs": [],
   "source": [
    "from langchain import PromptTemplate, OpenAI, LLMChain"
   ]
  },
  {
   "cell_type": "code",
   "execution_count": null,
   "metadata": {},
   "outputs": [],
   "source": [
    "template = \"\"\"Question: {question}\n",
    "\n",
    "Answer: \"\"\"\n",
    "\n",
    "prompt = PromptTemplate(template=template, input_variables=[\"question\"])\n",
    "\n",
    "question = \"What was the largest tornado ever recorded?\""
   ]
  },
  {
   "cell_type": "code",
   "execution_count": null,
   "metadata": {},
   "outputs": [],
   "source": [
    "davinci = OpenAI(model_name=\"text-davinci-003\", temperature=0.9)\n",
    "llm_chain = LLMChain(prompt=prompt, llm=davinci)"
   ]
  },
  {
   "cell_type": "code",
   "execution_count": null,
   "metadata": {},
   "outputs": [],
   "source": [
    "llm_chain.run(question)"
   ]
  },
  {
   "cell_type": "code",
   "execution_count": null,
   "metadata": {},
   "outputs": [],
   "source": [
    "questions = [\n",
    "    {\"question\": \"What was the largest tornado ever recorded?\"},\n",
    "    {\"question\": \"What is the most dangerous tornado?\"},\n",
    "    {\"question\": \"What is the difference between a hurricane and a typhoon?\"},\n",
    "    {\"question\": \"What is the deadliest natural disaster in history?\"},\n",
    "    {\"question\": \"What is the Richter scale used for?\"},\n",
    "]\n",
    "\n",
    "print(llm_chain.generate(questions))"
   ]
  },
  {
   "cell_type": "code",
   "execution_count": null,
   "metadata": {},
   "outputs": [],
   "source": [
    "questions_str = \"\"\"\n",
    "Question: What was the largest tornado ever recorded?\n",
    "Question: What is the most dangerous tornado?\n",
    "Question: What is the difference between a hurricane and a typhoon?\n",
    "Question: What is the deadliest natural disaster in history?\n",
    "Question: What is the Richter scale used for?\n",
    "\"\"\"\n",
    "\n",
    "print(llm_chain.run(questions_str))"
   ]
  }
 ],
 "metadata": {
  "kernelspec": {
   "display_name": ".venv",
   "language": "python",
   "name": "python3"
  },
  "language_info": {
   "codemirror_mode": {
    "name": "ipython",
    "version": 3
   },
   "file_extension": ".py",
   "mimetype": "text/x-python",
   "name": "python",
   "nbconvert_exporter": "python",
   "pygments_lexer": "ipython3",
   "version": "3.11.3"
  }
 },
 "nbformat": 4,
 "nbformat_minor": 2
}
