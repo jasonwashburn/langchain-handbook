{
 "cells": [
  {
   "cell_type": "code",
   "execution_count": null,
   "id": "de0aa776",
   "metadata": {},
   "outputs": [],
   "source": [
    "from langchain import HuggingFaceHub, LLMChain, PromptTemplate\n",
    "from langchain.llms import OpenAI\n",
    "\n",
    "template = \"\"\"Question: {question}\n",
    "\n",
    "Answer: \"\"\"\n",
    "\n",
    "prompt = PromptTemplate(template=template, input_variables=[\"question\"])\n",
    "\n",
    "# user question\n",
    "question = \"Which NFL team won the Super Bowl in the 2010 season?\""
   ]
  },
  {
   "cell_type": "code",
   "execution_count": null,
   "id": "4782075d",
   "metadata": {},
   "outputs": [],
   "source": [
    "# initialize Hub LLM\n",
    "hub_llm = HuggingFaceHub(\n",
    "    repo_id=\"google/flan-t5-large\", model_kwargs={\"temperature\": 1e-10}\n",
    ")\n",
    "\n",
    "# create prompt template > LLM chain\n",
    "llm_chain = LLMChain(prompt=prompt, llm=hub_llm)\n",
    "\n",
    "# ask the user question about tornadoes\n",
    "print(llm_chain.run(question))"
   ]
  },
  {
   "cell_type": "code",
   "execution_count": null,
   "id": "c7efcc5e",
   "metadata": {},
   "outputs": [],
   "source": [
    "qs = [\n",
    "    {\"question\": \"Which NFL team won the Super Bowl in the 2010 season?\"},\n",
    "    {\"question\": \"If I am 6 ft 4 inches, how tall am I in centimeters?\"},\n",
    "    {\"question\": \"Who was the 12th person on the moon?\"},\n",
    "    {\"question\": \"How many eyes does a blade of grass have?\"},\n",
    "]\n",
    "res = llm_chain.generate(qs)\n",
    "res"
   ]
  },
  {
   "cell_type": "code",
   "execution_count": null,
   "id": "fefbbee9",
   "metadata": {},
   "outputs": [],
   "source": [
    "multi_template = \"\"\"Answer the following questions one at a time.\n",
    "\n",
    "Questions:\n",
    "{questions}\n",
    "\n",
    "Answers:\n",
    "\"\"\"\n",
    "long_prompt = PromptTemplate(template=multi_template, input_variables=[\"questions\"])\n",
    "\n",
    "llm_chain = LLMChain(\n",
    "    prompt=long_prompt,\n",
    "    llm=hub_llm,\n",
    ")\n",
    "\n",
    "qs_str = (\n",
    "    \"Which NFL team won the Super Bowl in the 2010 season?\\n\"\n",
    "    + \"If I am 6 ft 4 inches, how tall am I in centimeters?\\n\"\n",
    "    + \"Who was the 12th person on the moon?\"\n",
    "    + \"How many eyes does a blade of grass have?\"\n",
    ")\n",
    "\n",
    "print(llm_chain.run(qs_str))"
   ]
  },
  {
   "cell_type": "code",
   "execution_count": null,
   "id": "356e068e",
   "metadata": {},
   "outputs": [],
   "source": [
    "davinci = OpenAI(model_name=\"text-davinci-003\")"
   ]
  },
  {
   "cell_type": "code",
   "execution_count": null,
   "id": "a4c82540",
   "metadata": {},
   "outputs": [],
   "source": [
    "print(prompt)"
   ]
  },
  {
   "cell_type": "code",
   "execution_count": null,
   "id": "948452b4",
   "metadata": {},
   "outputs": [],
   "source": [
    "llm_chain = LLMChain(prompt=prompt, llm=davinci)\n",
    "\n",
    "print(llm_chain.run(question))"
   ]
  },
  {
   "cell_type": "code",
   "execution_count": null,
   "id": "1f3608a4",
   "metadata": {},
   "outputs": [],
   "source": [
    "llm_chain.generate(qs)"
   ]
  },
  {
   "cell_type": "code",
   "execution_count": null,
   "id": "7d7b962b",
   "metadata": {},
   "outputs": [],
   "source": [
    "llm_chain = LLMChain(prompt=long_prompt, llm=davinci)\n",
    "\n",
    "qs_str = (\n",
    "    \"Which NFL team won the Super Bowl in the 2010 season?\\n\"\n",
    "    + \"If I am 6 ft 4 inches, how tall am I in centimeters?\\n\"\n",
    "    + \"Who was the 12th person on the moon?\"\n",
    "    + \"How many eyes does a blade of grass have?\"\n",
    ")\n",
    "\n",
    "print(llm_chain.run(qs_str))"
   ]
  },
  {
   "cell_type": "code",
   "execution_count": null,
   "id": "44050913",
   "metadata": {},
   "outputs": [],
   "source": []
  }
 ],
 "metadata": {
  "kernelspec": {
   "display_name": ".venv",
   "language": "python",
   "name": "python3"
  },
  "language_info": {
   "codemirror_mode": {
    "name": "ipython",
    "version": 3
   },
   "file_extension": ".py",
   "mimetype": "text/x-python",
   "name": "python",
   "nbconvert_exporter": "python",
   "pygments_lexer": "ipython3",
   "version": "3.11.3"
  }
 },
 "nbformat": 4,
 "nbformat_minor": 5
}
